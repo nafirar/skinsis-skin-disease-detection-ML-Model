{
 "cells": [
  {
   "cell_type": "code",
   "execution_count": 1,
   "id": "ad4e8a50",
   "metadata": {},
   "outputs": [],
   "source": [
    "import os\n",
    "import cv2\n",
    "import random\n",
    "import shutil\n",
    "import numpy as np\n",
    "import seaborn as sns\n",
    "import matplotlib.pyplot as plt\n",
    "import tensorflow as tf\n",
    "import tensorflow.keras as keras\n",
    "from tensorflow.keras import layers\n",
    "from tensorflow.keras import Model\n",
    "from tensorflow.keras.optimizers import RMSprop\n",
    "from tensorflow.keras.preprocessing.image import ImageDataGenerator\n",
    "from tensorflow.keras.preprocessing.image import img_to_array, load_img"
   ]
  },
  {
   "cell_type": "code",
   "execution_count": 2,
   "id": "663b8b85",
   "metadata": {},
   "outputs": [],
   "source": [
    "train_dir = './new_dataset_9/Train'\n",
    "validation_dir = './new_dataset_9/Validation'\n",
    "test_dir='./new_dataset_9/Test'"
   ]
  },
  {
   "cell_type": "code",
   "execution_count": 3,
   "id": "07c241ba",
   "metadata": {},
   "outputs": [],
   "source": [
    "def data_generators(TRAINING_DIR, VALIDATION_DIR,TESTING_DIR):\n",
    "\n",
    "  train_datagen = ImageDataGenerator(rescale = 1./255.,\n",
    "                                   width_shift_range = 0.3,\n",
    "                                   height_shift_range = 0.3,\n",
    "                                   shear_range = 0.3,\n",
    "                                   zoom_range = 0.3,\n",
    "                                   horizontal_flip = True,\n",
    "                                   vertical_flip = True)\n",
    "\n",
    "  train_generator = train_datagen.flow_from_directory(TRAINING_DIR,\n",
    "                                                    batch_size = 64,\n",
    "                                                    class_mode = 'categorical', \n",
    "                                                    target_size = (150, 150))\n",
    "\n",
    "  validation_datagen = ImageDataGenerator( rescale = 1.0/255.)\n",
    "\n",
    "  \n",
    "  validation_generator = validation_datagen.flow_from_directory(VALIDATION_DIR,\n",
    "                                                    batch_size = 64,\n",
    "                                                    class_mode = 'categorical', \n",
    "                                                    target_size = (150, 150))\n",
    "\n",
    "  testing_datagen = ImageDataGenerator( rescale = 1.0/255.)\n",
    "    \n",
    "  testing_generator = testing_datagen.flow_from_directory(TESTING_DIR,\n",
    "                                                    batch_size = 64,\n",
    "                                                    class_mode = 'categorical', \n",
    "                                                    target_size = (150,150))\n",
    "\n",
    "  return train_generator, validation_generator, testing_generator"
   ]
  },
  {
   "cell_type": "code",
   "execution_count": 4,
   "id": "58e19452",
   "metadata": {},
   "outputs": [
    {
     "name": "stdout",
     "output_type": "stream",
     "text": [
      "Found 566 images belonging to 5 classes.\n",
      "Found 80 images belonging to 5 classes.\n",
      "Found 74 images belonging to 5 classes.\n"
     ]
    }
   ],
   "source": [
    "train_generator, validation_generator,testing_generator = data_generators(train_dir, validation_dir,test_dir)"
   ]
  },
  {
   "cell_type": "code",
   "execution_count": 5,
   "id": "da9bcaa5",
   "metadata": {},
   "outputs": [],
   "source": [
    "from tensorflow.keras.applications import MobileNet\n",
    "from tensorflow.keras.applications.mobilenet import preprocess_input\n",
    "from tensorflow.keras.layers import Dense,GlobalAveragePooling2D"
   ]
  },
  {
   "cell_type": "code",
   "execution_count": 6,
   "id": "3e19500c",
   "metadata": {},
   "outputs": [
    {
     "name": "stdout",
     "output_type": "stream",
     "text": [
      "WARNING:tensorflow:`input_shape` is undefined or non-square, or `rows` is not in [128, 160, 192, 224]. Weights for input shape (224, 224) will be loaded as the default.\n"
     ]
    }
   ],
   "source": [
    "base_model=MobileNet(weights='imagenet',include_top=False,input_shape = (150,150, 3))\n",
    "x=base_model.output\n",
    "x=GlobalAveragePooling2D()(x)\n",
    "x=Dense(1024,activation='relu')(x)\n",
    "x=Dense(512,activation='relu')(x)\n",
    "x=Dense(216,activation='relu')(x)\n",
    "preds=Dense(5,activation='softmax')(x)"
   ]
  },
  {
   "cell_type": "code",
   "execution_count": 7,
   "id": "ab3dce57",
   "metadata": {},
   "outputs": [
    {
     "data": {
      "text/plain": [
       "87"
      ]
     },
     "execution_count": 7,
     "metadata": {},
     "output_type": "execute_result"
    }
   ],
   "source": [
    "len(base_model.layers)"
   ]
  },
  {
   "cell_type": "code",
   "execution_count": 8,
   "id": "1e09259d",
   "metadata": {},
   "outputs": [],
   "source": [
    "for layer in base_model.layers[:50]:\n",
    "    layer.trainable = False\n",
    "for layer in base_model.layers[50:86]:\n",
    "    layer.trainable = True"
   ]
  },
  {
   "cell_type": "code",
   "execution_count": 9,
   "id": "ab7c82d9",
   "metadata": {},
   "outputs": [],
   "source": [
    "model_mobilenet=Model(inputs=base_model.input,outputs=preds)"
   ]
  },
  {
   "cell_type": "code",
   "execution_count": 16,
   "id": "939e3786",
   "metadata": {},
   "outputs": [],
   "source": [
    "SGD=keras.optimizers.SGD(lr=0.01, momentum=0.9, decay=0.0, nesterov=False)"
   ]
  },
  {
   "cell_type": "code",
   "execution_count": 17,
   "id": "9d86ad8b",
   "metadata": {},
   "outputs": [],
   "source": [
    "model_mobilenet.compile(optimizer=SGD,loss='categorical_crossentropy',metrics=['accuracy'])"
   ]
  },
  {
   "cell_type": "code",
   "execution_count": 21,
   "id": "355f3d4c",
   "metadata": {},
   "outputs": [],
   "source": [
    "class myCallback(tf.keras.callbacks.Callback):\n",
    "    def on_epoch_end(self, epoch, logs={}):\n",
    "        if logs.get('accuracy') is not None and logs.get('val_accuracy') > 0.85:\n",
    "            print(\"\\nReached 85% accuracy so cancelling training!\")\n",
    "            self.model.stop_training = True"
   ]
  },
  {
   "cell_type": "code",
   "execution_count": 22,
   "id": "745bc806",
   "metadata": {},
   "outputs": [],
   "source": [
    "callbacks = myCallback()"
   ]
  },
  {
   "cell_type": "code",
   "execution_count": 23,
   "id": "5529ba9b",
   "metadata": {},
   "outputs": [
    {
     "name": "stdout",
     "output_type": "stream",
     "text": [
      "Epoch 1/50\n",
      "9/9 [==============================] - 9s 987ms/step - loss: 0.0610 - accuracy: 0.9788 - val_loss: 1.1123 - val_accuracy: 0.7875\n",
      "Epoch 2/50\n",
      "9/9 [==============================] - 9s 966ms/step - loss: 0.1022 - accuracy: 0.9682 - val_loss: 1.2576 - val_accuracy: 0.7625\n",
      "Epoch 3/50\n",
      "9/9 [==============================] - 9s 972ms/step - loss: 0.0641 - accuracy: 0.9788 - val_loss: 1.1877 - val_accuracy: 0.8000\n",
      "Epoch 4/50\n",
      "9/9 [==============================] - 10s 1s/step - loss: 0.0529 - accuracy: 0.9823 - val_loss: 1.2375 - val_accuracy: 0.7750\n",
      "Epoch 5/50\n",
      "9/9 [==============================] - 10s 1s/step - loss: 0.0606 - accuracy: 0.9806 - val_loss: 1.3753 - val_accuracy: 0.7625\n",
      "Epoch 6/50\n",
      "9/9 [==============================] - 9s 1s/step - loss: 0.0947 - accuracy: 0.9735 - val_loss: 1.1486 - val_accuracy: 0.7750\n",
      "Epoch 7/50\n",
      "9/9 [==============================] - 10s 1s/step - loss: 0.0405 - accuracy: 0.9894 - val_loss: 1.0927 - val_accuracy: 0.8000\n",
      "Epoch 8/50\n",
      "9/9 [==============================] - 10s 1s/step - loss: 0.0423 - accuracy: 0.9806 - val_loss: 1.3074 - val_accuracy: 0.7375\n",
      "Epoch 9/50\n",
      "9/9 [==============================] - 11s 1s/step - loss: 0.0550 - accuracy: 0.9823 - val_loss: 1.3337 - val_accuracy: 0.7375\n",
      "Epoch 10/50\n",
      "9/9 [==============================] - 10s 1s/step - loss: 0.0566 - accuracy: 0.9788 - val_loss: 1.0969 - val_accuracy: 0.7750\n",
      "Epoch 11/50\n",
      "9/9 [==============================] - 10s 1s/step - loss: 0.0579 - accuracy: 0.9770 - val_loss: 1.1180 - val_accuracy: 0.7750\n",
      "Epoch 12/50\n",
      "9/9 [==============================] - 9s 1s/step - loss: 0.0849 - accuracy: 0.9717 - val_loss: 1.3976 - val_accuracy: 0.7500\n",
      "Epoch 13/50\n",
      "9/9 [==============================] - 9s 1s/step - loss: 0.0580 - accuracy: 0.9788 - val_loss: 1.4186 - val_accuracy: 0.7375\n",
      "Epoch 14/50\n",
      "9/9 [==============================] - 9s 1s/step - loss: 0.0598 - accuracy: 0.9841 - val_loss: 1.4382 - val_accuracy: 0.7750\n",
      "Epoch 15/50\n",
      "9/9 [==============================] - 9s 1s/step - loss: 0.0335 - accuracy: 0.9894 - val_loss: 1.2922 - val_accuracy: 0.7750\n",
      "Epoch 16/50\n",
      "9/9 [==============================] - 9s 1s/step - loss: 0.0852 - accuracy: 0.9664 - val_loss: 1.1389 - val_accuracy: 0.7500\n",
      "Epoch 17/50\n",
      "9/9 [==============================] - 9s 1s/step - loss: 0.0558 - accuracy: 0.9823 - val_loss: 1.0932 - val_accuracy: 0.8000\n",
      "Epoch 18/50\n",
      "9/9 [==============================] - 9s 1s/step - loss: 0.0537 - accuracy: 0.9823 - val_loss: 1.1312 - val_accuracy: 0.8125\n",
      "Epoch 19/50\n",
      "9/9 [==============================] - 9s 1s/step - loss: 0.0537 - accuracy: 0.9806 - val_loss: 1.2393 - val_accuracy: 0.8125\n",
      "Epoch 20/50\n",
      "9/9 [==============================] - 9s 1s/step - loss: 0.0621 - accuracy: 0.9788 - val_loss: 1.1146 - val_accuracy: 0.8250\n",
      "Epoch 21/50\n",
      "9/9 [==============================] - 9s 997ms/step - loss: 0.0487 - accuracy: 0.9823 - val_loss: 0.9665 - val_accuracy: 0.8250\n",
      "Epoch 22/50\n",
      "9/9 [==============================] - 9s 1s/step - loss: 0.0668 - accuracy: 0.9823 - val_loss: 0.9658 - val_accuracy: 0.8000\n",
      "Epoch 23/50\n",
      "9/9 [==============================] - 9s 1s/step - loss: 0.0413 - accuracy: 0.9876 - val_loss: 0.8767 - val_accuracy: 0.8000\n",
      "Epoch 24/50\n",
      "9/9 [==============================] - 9s 1s/step - loss: 0.0508 - accuracy: 0.9770 - val_loss: 0.8545 - val_accuracy: 0.8000\n",
      "Epoch 25/50\n",
      "9/9 [==============================] - 9s 1s/step - loss: 0.0797 - accuracy: 0.9717 - val_loss: 0.9602 - val_accuracy: 0.7875\n",
      "Epoch 26/50\n",
      "9/9 [==============================] - 9s 1s/step - loss: 0.0705 - accuracy: 0.9806 - val_loss: 1.0627 - val_accuracy: 0.7500\n",
      "Epoch 27/50\n",
      "9/9 [==============================] - 9s 1s/step - loss: 0.0501 - accuracy: 0.9823 - val_loss: 1.0277 - val_accuracy: 0.8125\n",
      "Epoch 28/50\n",
      "9/9 [==============================] - 9s 1s/step - loss: 0.0786 - accuracy: 0.9753 - val_loss: 1.0446 - val_accuracy: 0.8000\n",
      "Epoch 29/50\n",
      "9/9 [==============================] - 9s 1s/step - loss: 0.0712 - accuracy: 0.9735 - val_loss: 1.1846 - val_accuracy: 0.7625\n",
      "Epoch 30/50\n",
      "9/9 [==============================] - 9s 1s/step - loss: 0.0534 - accuracy: 0.9876 - val_loss: 1.2046 - val_accuracy: 0.7875\n",
      "Epoch 31/50\n",
      "9/9 [==============================] - 9s 1s/step - loss: 0.0887 - accuracy: 0.9682 - val_loss: 1.1021 - val_accuracy: 0.7875\n",
      "Epoch 32/50\n",
      "9/9 [==============================] - 9s 1s/step - loss: 0.0562 - accuracy: 0.9806 - val_loss: 0.9708 - val_accuracy: 0.8125\n",
      "Epoch 33/50\n",
      "9/9 [==============================] - 9s 1s/step - loss: 0.0296 - accuracy: 0.9894 - val_loss: 1.0625 - val_accuracy: 0.7750\n",
      "Epoch 34/50\n",
      "9/9 [==============================] - 9s 1s/step - loss: 0.0464 - accuracy: 0.9788 - val_loss: 1.1286 - val_accuracy: 0.8000\n",
      "Epoch 35/50\n",
      "9/9 [==============================] - 9s 1s/step - loss: 0.0499 - accuracy: 0.9823 - val_loss: 1.1284 - val_accuracy: 0.8125\n",
      "Epoch 36/50\n",
      "9/9 [==============================] - 9s 1s/step - loss: 0.0400 - accuracy: 0.9894 - val_loss: 0.9879 - val_accuracy: 0.8125\n",
      "Epoch 37/50\n",
      "9/9 [==============================] - 9s 1s/step - loss: 0.0501 - accuracy: 0.9841 - val_loss: 1.1511 - val_accuracy: 0.8125\n",
      "Epoch 38/50\n",
      "9/9 [==============================] - 9s 1s/step - loss: 0.0225 - accuracy: 0.9912 - val_loss: 1.1022 - val_accuracy: 0.8000\n",
      "Epoch 39/50\n",
      "9/9 [==============================] - 9s 1s/step - loss: 0.0332 - accuracy: 0.9912 - val_loss: 1.1103 - val_accuracy: 0.8250\n",
      "Epoch 40/50\n",
      "9/9 [==============================] - ETA: 0s - loss: 0.0243 - accuracy: 0.9912\n",
      "Reached 85% accuracy so cancelling training!\n",
      "9/9 [==============================] - 9s 1s/step - loss: 0.0243 - accuracy: 0.9912 - val_loss: 1.0201 - val_accuracy: 0.8500\n"
     ]
    }
   ],
   "source": [
    "history = model_mobilenet.fit(train_generator,\n",
    "                    epochs=50,\n",
    "                    validation_data=validation_generator,\n",
    "                             verbose=1,callbacks=[callbacks])"
   ]
  },
  {
   "cell_type": "code",
   "execution_count": 24,
   "id": "63397645",
   "metadata": {},
   "outputs": [
    {
     "name": "stdout",
     "output_type": "stream",
     "text": [
      "2/2 [==============================] - 0s 35ms/step - loss: 1.5469 - accuracy: 0.7568\n"
     ]
    }
   ],
   "source": [
    "results = model_mobilenet.evaluate(testing_generator, batch_size=128)"
   ]
  },
  {
   "cell_type": "code",
   "execution_count": 43,
   "id": "fb56af51",
   "metadata": {},
   "outputs": [
    {
     "name": "stdout",
     "output_type": "stream",
     "text": [
      "Model: \"functional_1\"\n",
      "_________________________________________________________________\n",
      "Layer (type)                 Output Shape              Param #   \n",
      "=================================================================\n",
      "input_1 (InputLayer)         [(None, 150, 150, 3)]     0         \n",
      "_________________________________________________________________\n",
      "conv1_pad (ZeroPadding2D)    (None, 151, 151, 3)       0         \n",
      "_________________________________________________________________\n",
      "conv1 (Conv2D)               (None, 75, 75, 32)        864       \n",
      "_________________________________________________________________\n",
      "conv1_bn (BatchNormalization (None, 75, 75, 32)        128       \n",
      "_________________________________________________________________\n",
      "conv1_relu (ReLU)            (None, 75, 75, 32)        0         \n",
      "_________________________________________________________________\n",
      "conv_dw_1 (DepthwiseConv2D)  (None, 75, 75, 32)        288       \n",
      "_________________________________________________________________\n",
      "conv_dw_1_bn (BatchNormaliza (None, 75, 75, 32)        128       \n",
      "_________________________________________________________________\n",
      "conv_dw_1_relu (ReLU)        (None, 75, 75, 32)        0         \n",
      "_________________________________________________________________\n",
      "conv_pw_1 (Conv2D)           (None, 75, 75, 64)        2048      \n",
      "_________________________________________________________________\n",
      "conv_pw_1_bn (BatchNormaliza (None, 75, 75, 64)        256       \n",
      "_________________________________________________________________\n",
      "conv_pw_1_relu (ReLU)        (None, 75, 75, 64)        0         \n",
      "_________________________________________________________________\n",
      "conv_pad_2 (ZeroPadding2D)   (None, 76, 76, 64)        0         \n",
      "_________________________________________________________________\n",
      "conv_dw_2 (DepthwiseConv2D)  (None, 37, 37, 64)        576       \n",
      "_________________________________________________________________\n",
      "conv_dw_2_bn (BatchNormaliza (None, 37, 37, 64)        256       \n",
      "_________________________________________________________________\n",
      "conv_dw_2_relu (ReLU)        (None, 37, 37, 64)        0         \n",
      "_________________________________________________________________\n",
      "conv_pw_2 (Conv2D)           (None, 37, 37, 128)       8192      \n",
      "_________________________________________________________________\n",
      "conv_pw_2_bn (BatchNormaliza (None, 37, 37, 128)       512       \n",
      "_________________________________________________________________\n",
      "conv_pw_2_relu (ReLU)        (None, 37, 37, 128)       0         \n",
      "_________________________________________________________________\n",
      "conv_dw_3 (DepthwiseConv2D)  (None, 37, 37, 128)       1152      \n",
      "_________________________________________________________________\n",
      "conv_dw_3_bn (BatchNormaliza (None, 37, 37, 128)       512       \n",
      "_________________________________________________________________\n",
      "conv_dw_3_relu (ReLU)        (None, 37, 37, 128)       0         \n",
      "_________________________________________________________________\n",
      "conv_pw_3 (Conv2D)           (None, 37, 37, 128)       16384     \n",
      "_________________________________________________________________\n",
      "conv_pw_3_bn (BatchNormaliza (None, 37, 37, 128)       512       \n",
      "_________________________________________________________________\n",
      "conv_pw_3_relu (ReLU)        (None, 37, 37, 128)       0         \n",
      "_________________________________________________________________\n",
      "conv_pad_4 (ZeroPadding2D)   (None, 38, 38, 128)       0         \n",
      "_________________________________________________________________\n",
      "conv_dw_4 (DepthwiseConv2D)  (None, 18, 18, 128)       1152      \n",
      "_________________________________________________________________\n",
      "conv_dw_4_bn (BatchNormaliza (None, 18, 18, 128)       512       \n",
      "_________________________________________________________________\n",
      "conv_dw_4_relu (ReLU)        (None, 18, 18, 128)       0         \n",
      "_________________________________________________________________\n",
      "conv_pw_4 (Conv2D)           (None, 18, 18, 256)       32768     \n",
      "_________________________________________________________________\n",
      "conv_pw_4_bn (BatchNormaliza (None, 18, 18, 256)       1024      \n",
      "_________________________________________________________________\n",
      "conv_pw_4_relu (ReLU)        (None, 18, 18, 256)       0         \n",
      "_________________________________________________________________\n",
      "conv_dw_5 (DepthwiseConv2D)  (None, 18, 18, 256)       2304      \n",
      "_________________________________________________________________\n",
      "conv_dw_5_bn (BatchNormaliza (None, 18, 18, 256)       1024      \n",
      "_________________________________________________________________\n",
      "conv_dw_5_relu (ReLU)        (None, 18, 18, 256)       0         \n",
      "_________________________________________________________________\n",
      "conv_pw_5 (Conv2D)           (None, 18, 18, 256)       65536     \n",
      "_________________________________________________________________\n",
      "conv_pw_5_bn (BatchNormaliza (None, 18, 18, 256)       1024      \n",
      "_________________________________________________________________\n",
      "conv_pw_5_relu (ReLU)        (None, 18, 18, 256)       0         \n",
      "_________________________________________________________________\n",
      "conv_pad_6 (ZeroPadding2D)   (None, 19, 19, 256)       0         \n",
      "_________________________________________________________________\n",
      "conv_dw_6 (DepthwiseConv2D)  (None, 9, 9, 256)         2304      \n",
      "_________________________________________________________________\n",
      "conv_dw_6_bn (BatchNormaliza (None, 9, 9, 256)         1024      \n",
      "_________________________________________________________________\n",
      "conv_dw_6_relu (ReLU)        (None, 9, 9, 256)         0         \n",
      "_________________________________________________________________\n",
      "conv_pw_6 (Conv2D)           (None, 9, 9, 512)         131072    \n",
      "_________________________________________________________________\n",
      "conv_pw_6_bn (BatchNormaliza (None, 9, 9, 512)         2048      \n",
      "_________________________________________________________________\n",
      "conv_pw_6_relu (ReLU)        (None, 9, 9, 512)         0         \n",
      "_________________________________________________________________\n",
      "conv_dw_7 (DepthwiseConv2D)  (None, 9, 9, 512)         4608      \n",
      "_________________________________________________________________\n",
      "conv_dw_7_bn (BatchNormaliza (None, 9, 9, 512)         2048      \n",
      "_________________________________________________________________\n",
      "conv_dw_7_relu (ReLU)        (None, 9, 9, 512)         0         \n",
      "_________________________________________________________________\n",
      "conv_pw_7 (Conv2D)           (None, 9, 9, 512)         262144    \n",
      "_________________________________________________________________\n",
      "conv_pw_7_bn (BatchNormaliza (None, 9, 9, 512)         2048      \n",
      "_________________________________________________________________\n",
      "conv_pw_7_relu (ReLU)        (None, 9, 9, 512)         0         \n",
      "_________________________________________________________________\n",
      "conv_dw_8 (DepthwiseConv2D)  (None, 9, 9, 512)         4608      \n",
      "_________________________________________________________________\n",
      "conv_dw_8_bn (BatchNormaliza (None, 9, 9, 512)         2048      \n",
      "_________________________________________________________________\n",
      "conv_dw_8_relu (ReLU)        (None, 9, 9, 512)         0         \n",
      "_________________________________________________________________\n",
      "conv_pw_8 (Conv2D)           (None, 9, 9, 512)         262144    \n",
      "_________________________________________________________________\n",
      "conv_pw_8_bn (BatchNormaliza (None, 9, 9, 512)         2048      \n",
      "_________________________________________________________________\n",
      "conv_pw_8_relu (ReLU)        (None, 9, 9, 512)         0         \n",
      "_________________________________________________________________\n",
      "conv_dw_9 (DepthwiseConv2D)  (None, 9, 9, 512)         4608      \n",
      "_________________________________________________________________\n",
      "conv_dw_9_bn (BatchNormaliza (None, 9, 9, 512)         2048      \n",
      "_________________________________________________________________\n",
      "conv_dw_9_relu (ReLU)        (None, 9, 9, 512)         0         \n",
      "_________________________________________________________________\n",
      "conv_pw_9 (Conv2D)           (None, 9, 9, 512)         262144    \n",
      "_________________________________________________________________\n",
      "conv_pw_9_bn (BatchNormaliza (None, 9, 9, 512)         2048      \n",
      "_________________________________________________________________\n",
      "conv_pw_9_relu (ReLU)        (None, 9, 9, 512)         0         \n",
      "_________________________________________________________________\n",
      "conv_dw_10 (DepthwiseConv2D) (None, 9, 9, 512)         4608      \n",
      "_________________________________________________________________\n",
      "conv_dw_10_bn (BatchNormaliz (None, 9, 9, 512)         2048      \n",
      "_________________________________________________________________\n",
      "conv_dw_10_relu (ReLU)       (None, 9, 9, 512)         0         \n",
      "_________________________________________________________________\n",
      "conv_pw_10 (Conv2D)          (None, 9, 9, 512)         262144    \n",
      "_________________________________________________________________\n",
      "conv_pw_10_bn (BatchNormaliz (None, 9, 9, 512)         2048      \n",
      "_________________________________________________________________\n",
      "conv_pw_10_relu (ReLU)       (None, 9, 9, 512)         0         \n",
      "_________________________________________________________________\n",
      "conv_dw_11 (DepthwiseConv2D) (None, 9, 9, 512)         4608      \n",
      "_________________________________________________________________\n",
      "conv_dw_11_bn (BatchNormaliz (None, 9, 9, 512)         2048      \n",
      "_________________________________________________________________\n",
      "conv_dw_11_relu (ReLU)       (None, 9, 9, 512)         0         \n",
      "_________________________________________________________________\n",
      "conv_pw_11 (Conv2D)          (None, 9, 9, 512)         262144    \n",
      "_________________________________________________________________\n",
      "conv_pw_11_bn (BatchNormaliz (None, 9, 9, 512)         2048      \n",
      "_________________________________________________________________\n",
      "conv_pw_11_relu (ReLU)       (None, 9, 9, 512)         0         \n",
      "_________________________________________________________________\n",
      "conv_pad_12 (ZeroPadding2D)  (None, 10, 10, 512)       0         \n",
      "_________________________________________________________________\n",
      "conv_dw_12 (DepthwiseConv2D) (None, 4, 4, 512)         4608      \n",
      "_________________________________________________________________\n",
      "conv_dw_12_bn (BatchNormaliz (None, 4, 4, 512)         2048      \n",
      "_________________________________________________________________\n",
      "conv_dw_12_relu (ReLU)       (None, 4, 4, 512)         0         \n",
      "_________________________________________________________________\n",
      "conv_pw_12 (Conv2D)          (None, 4, 4, 1024)        524288    \n",
      "_________________________________________________________________\n",
      "conv_pw_12_bn (BatchNormaliz (None, 4, 4, 1024)        4096      \n",
      "_________________________________________________________________\n",
      "conv_pw_12_relu (ReLU)       (None, 4, 4, 1024)        0         \n",
      "_________________________________________________________________\n",
      "conv_dw_13 (DepthwiseConv2D) (None, 4, 4, 1024)        9216      \n",
      "_________________________________________________________________\n",
      "conv_dw_13_bn (BatchNormaliz (None, 4, 4, 1024)        4096      \n",
      "_________________________________________________________________\n",
      "conv_dw_13_relu (ReLU)       (None, 4, 4, 1024)        0         \n",
      "_________________________________________________________________\n",
      "conv_pw_13 (Conv2D)          (None, 4, 4, 1024)        1048576   \n",
      "_________________________________________________________________\n",
      "conv_pw_13_bn (BatchNormaliz (None, 4, 4, 1024)        4096      \n",
      "_________________________________________________________________\n",
      "conv_pw_13_relu (ReLU)       (None, 4, 4, 1024)        0         \n",
      "_________________________________________________________________\n",
      "global_average_pooling2d (Gl (None, 1024)              0         \n",
      "_________________________________________________________________\n",
      "dense (Dense)                (None, 1024)              1049600   \n",
      "_________________________________________________________________\n",
      "dense_1 (Dense)              (None, 512)               524800    \n",
      "_________________________________________________________________\n",
      "dense_2 (Dense)              (None, 216)               110808    \n",
      "_________________________________________________________________\n",
      "dense_3 (Dense)              (None, 5)                 1085      \n",
      "=================================================================\n",
      "Total params: 4,915,157\n",
      "Trainable params: 4,355,349\n",
      "Non-trainable params: 559,808\n",
      "_________________________________________________________________\n"
     ]
    }
   ],
   "source": [
    "model_mobilenet.summary()"
   ]
  },
  {
   "cell_type": "code",
   "execution_count": 27,
   "id": "4cdaccbd",
   "metadata": {},
   "outputs": [
    {
     "name": "stdout",
     "output_type": "stream",
     "text": [
      "Saved model to disk\n"
     ]
    }
   ],
   "source": [
    "    model1_json = model_mobilenet.to_json()\n",
    "    with open(\"model1_mobilenet.json\", \"w\") as json_file:\n",
    "        json_file.write(model1_json)\n",
    "    # serialize weights to HDF5\n",
    "    model_mobilenet.save(\"model1_mobilenet.h5\")\n",
    "    print(\"Saved model to disk\")"
   ]
  },
  {
   "cell_type": "code",
   "execution_count": 29,
   "id": "3b03aad1",
   "metadata": {},
   "outputs": [],
   "source": [
    "acc = history.history['accuracy']\n",
    "val_acc = history.history['val_accuracy']\n",
    "loss = history.history['loss']\n",
    "val_loss = history.history['val_loss']\n",
    "epochs = range(len(acc))\n",
    "\n",
    "def plot_acc_model(acc, val_acc, epochs):\n",
    "    plt.plot(epochs, acc, 'r', label='Training accuracy')\n",
    "    plt.plot(epochs, val_acc, 'b', label='Validation accuracy')\n",
    "    plt.title('Training and validation accuracy')\n",
    "    plt.legend(loc=0)\n",
    "    plt.figure()\n",
    "    plt.show()\n",
    "    \n",
    "def plot_loss_model(loss, val_loss, epochs):\n",
    "    plt.plot(epochs, loss, 'r', label='Training loss')\n",
    "    plt.plot(epochs, val_loss, 'b', label='Validation loss')\n",
    "    plt.title('Training and validation loss')\n",
    "    plt.legend(loc=0)\n",
    "    plt.figure()\n",
    "    plt.show()"
   ]
  },
  {
   "cell_type": "code",
   "execution_count": 30,
   "id": "89201200",
   "metadata": {},
   "outputs": [
    {
     "data": {
      "image/png": "[encoded data removed]",
      "text/plain": [
       "<Figure size 432x288 with 1 Axes>"
      ]
     },
     "metadata": {
      "needs_background": "light"
     },
     "output_type": "display_data"
    },
    {
     "data": {
      "text/plain": [
       "<Figure size 432x288 with 0 Axes>"
      ]
     },
     "metadata": {},
     "output_type": "display_data"
    },
    {
     "data": {
      "image/png": "[encoded data removed]",
      "text/plain": [
       "<Figure size 432x288 with 1 Axes>"
      ]
     },
     "metadata": {
      "needs_background": "light"
     },
     "output_type": "display_data"
    },
    {
     "data": {
      "text/plain": [
       "<Figure size 432x288 with 0 Axes>"
      ]
     },
     "metadata": {},
     "output_type": "display_data"
    }
   ],
   "source": [
    "plot_acc_model(acc, val_acc, epochs)\n",
    "plot_loss_model(loss, val_loss, epochs)"
   ]
  },
  {
   "cell_type": "code",
   "execution_count": 31,
   "id": "43462e41",
   "metadata": {},
   "outputs": [],
   "source": [
    "from sklearn.metrics import ConfusionMatrixDisplay\n",
    "from sklearn.metrics import confusion_matrix\n",
    "\n",
    "def confussion_matrix(test_true, test_pred, test_class):\n",
    "    cm = confusion_matrix(test_true, test_pred)\n",
    "    disp = ConfusionMatrixDisplay(confusion_matrix=cm, display_labels=test_class)\n",
    "    fig, ax = plt.subplots(figsize=(15,15))\n",
    "    disp.plot(ax=ax,cmap=plt.cm.Blues)\n",
    "    plt.show()"
   ]
  },
  {
   "cell_type": "code",
   "execution_count": 32,
   "id": "a0fd0900",
   "metadata": {},
   "outputs": [
    {
     "data": {
      "image/png": "[encoded data removed]",
      "text/plain": [
       "<Figure size 1080x1080 with 2 Axes>"
      ]
     },
     "metadata": {
      "needs_background": "light"
     },
     "output_type": "display_data"
    }
   ],
   "source": [
    "testing_pred_raw = model_mobilenet.predict(testing_generator)\n",
    "testing_pred = np.argmax(testing_pred_raw, axis=1)\n",
    "testing_true = testing_generator.classes\n",
    "testing_class = [\"Acne & Rosacea\", \"Eczema\", \"Herpes HPV\", \"Psoriasis\", \"Seborrheic Keratoses\"]\n",
    "confussion_matrix(testing_true, testing_pred, testing_class)"
   ]
  },
  {
   "cell_type": "code",
   "execution_count": 33,
   "id": "7a97a857",
   "metadata": {},
   "outputs": [],
   "source": [
    "def cluster_segmentation(img, k=5):\n",
    "  pixel_values = img.reshape((-1, 3))\n",
    "  pixel_values = np.float32(pixel_values)\n",
    "\n",
    "  criteria = (cv2.TERM_CRITERIA_EPS + cv2.TERM_CRITERIA_MAX_ITER, 100, 0.2)\n",
    "\n",
    "  _, labels, (centers) = cv2.kmeans(pixel_values, k, None, criteria, 10, cv2.KMEANS_RANDOM_CENTERS)\n",
    "  centers=np.uint8(centers)\n",
    "  labels = labels.flatten()\n",
    "  segmented_img = centers[labels.flatten()]\n",
    "  segmented_img = segmented_img.reshape(img.shape)\n",
    "  masked_img =  np.copy(img)\n",
    "  masked_img = masked_img.reshape((-1, 3))\n",
    "  cluster = 2\n",
    "  masked_img[labels==cluster] = [0, 0, 0]\n",
    "  masked_img = masked_img.reshape(img.shape)\n",
    "\n",
    "  return masked_img"
   ]
  },
  {
   "cell_type": "code",
   "execution_count": 34,
   "id": "a1dcf926",
   "metadata": {},
   "outputs": [],
   "source": [
    "def segmentation_generators(TRAINING_DIR, VALIDATION_DIR,TESTING_DIR, PREPROCESSING_IMG):\n",
    "\n",
    "  train_datagen = ImageDataGenerator(preprocessing_function=PREPROCESSING_IMG,\n",
    "                                   rescale = 1./255.,\n",
    "                                   width_shift_range = 0.3,\n",
    "                                   height_shift_range = 0.3,\n",
    "                                   shear_range = 0.3,\n",
    "                                   zoom_range = 0.3,\n",
    "                                   horizontal_flip = True,\n",
    "                                   vertical_flip = True)\n",
    "\n",
    "  train_generator = train_datagen.flow_from_directory(TRAINING_DIR,\n",
    "                                                    batch_size = 64,\n",
    "                                                    class_mode = 'categorical', \n",
    "                                                    target_size = (150, 150))\n",
    "\n",
    "  validation_datagen = ImageDataGenerator(preprocessing_function=PREPROCESSING_IMG,\n",
    "                                          rescale = 1.0/255.)\n",
    "\n",
    "  \n",
    "  validation_generator = validation_datagen.flow_from_directory(VALIDATION_DIR,\n",
    "                                                    batch_size = 64,\n",
    "                                                    class_mode = 'categorical', \n",
    "                                                    target_size = (150, 150))\n",
    "\n",
    "  testing_datagen = ImageDataGenerator(preprocessing_function=PREPROCESSING_IMG,\n",
    "                                       rescale = 1.0/255.)\n",
    "    \n",
    "  testing_generator = testing_datagen.flow_from_directory(TESTING_DIR,\n",
    "                                                    batch_size = 64,\n",
    "                                                    class_mode = 'categorical', \n",
    "                                                    target_size = (150,150))\n",
    "\n",
    "  return train_generator, validation_generator, testing_generator"
   ]
  },
  {
   "cell_type": "code",
   "execution_count": 35,
   "id": "9ba4e47c",
   "metadata": {},
   "outputs": [
    {
     "name": "stdout",
     "output_type": "stream",
     "text": [
      "Found 566 images belonging to 5 classes.\n",
      "Found 80 images belonging to 5 classes.\n",
      "Found 74 images belonging to 5 classes.\n"
     ]
    }
   ],
   "source": [
    "train_generator, validation_generator,testing_generator = segmentation_generators(train_dir, validation_dir,test_dir, cluster_segmentation)"
   ]
  },
  {
   "cell_type": "code",
   "execution_count": 37,
   "id": "10b06226",
   "metadata": {},
   "outputs": [
    {
     "name": "stdout",
     "output_type": "stream",
     "text": [
      "Epoch 1/30\n",
      "9/9 [==============================] - 67s 7s/step - loss: 0.5556 - accuracy: 0.8198 - val_loss: 1.1315 - val_accuracy: 0.6375\n",
      "Epoch 2/30\n",
      "9/9 [==============================] - 68s 8s/step - loss: 0.4734 - accuracy: 0.8145 - val_loss: 1.0793 - val_accuracy: 0.6625\n",
      "Epoch 3/30\n",
      "9/9 [==============================] - 68s 8s/step - loss: 0.4795 - accuracy: 0.8304 - val_loss: 1.0955 - val_accuracy: 0.6625\n",
      "Epoch 4/30\n",
      "9/9 [==============================] - 67s 7s/step - loss: 0.4741 - accuracy: 0.8198 - val_loss: 1.0020 - val_accuracy: 0.6875\n",
      "Epoch 5/30\n",
      "9/9 [==============================] - 67s 7s/step - loss: 0.4450 - accuracy: 0.8498 - val_loss: 0.7299 - val_accuracy: 0.7000\n",
      "Epoch 6/30\n",
      "9/9 [==============================] - 69s 8s/step - loss: 0.3865 - accuracy: 0.8498 - val_loss: 0.8735 - val_accuracy: 0.7000\n",
      "Epoch 7/30\n",
      "9/9 [==============================] - 68s 8s/step - loss: 0.3835 - accuracy: 0.8534 - val_loss: 1.0677 - val_accuracy: 0.6875\n",
      "Epoch 8/30\n",
      "9/9 [==============================] - 70s 8s/step - loss: 0.3673 - accuracy: 0.8534 - val_loss: 1.1588 - val_accuracy: 0.6625\n",
      "Epoch 9/30\n",
      "9/9 [==============================] - 69s 8s/step - loss: 0.3750 - accuracy: 0.8516 - val_loss: 0.9280 - val_accuracy: 0.7000\n",
      "Epoch 10/30\n",
      "9/9 [==============================] - 67s 7s/step - loss: 0.3943 - accuracy: 0.8640 - val_loss: 1.2222 - val_accuracy: 0.5750\n",
      "Epoch 11/30\n",
      "9/9 [==============================] - 67s 7s/step - loss: 0.3585 - accuracy: 0.8569 - val_loss: 1.0913 - val_accuracy: 0.7000\n",
      "Epoch 12/30\n",
      "9/9 [==============================] - 68s 8s/step - loss: 0.3864 - accuracy: 0.8587 - val_loss: 1.0130 - val_accuracy: 0.7625\n",
      "Epoch 13/30\n",
      "9/9 [==============================] - 70s 8s/step - loss: 0.3238 - accuracy: 0.8887 - val_loss: 0.8774 - val_accuracy: 0.7375\n",
      "Epoch 14/30\n",
      "9/9 [==============================] - 67s 7s/step - loss: 0.3079 - accuracy: 0.8905 - val_loss: 0.7709 - val_accuracy: 0.7375\n",
      "Epoch 15/30\n",
      "9/9 [==============================] - 72s 8s/step - loss: 0.2960 - accuracy: 0.9028 - val_loss: 0.9448 - val_accuracy: 0.7125\n",
      "Epoch 16/30\n",
      "9/9 [==============================] - 70s 8s/step - loss: 0.3260 - accuracy: 0.8887 - val_loss: 0.9107 - val_accuracy: 0.7000\n",
      "Epoch 17/30\n",
      "9/9 [==============================] - 73s 8s/step - loss: 0.2795 - accuracy: 0.9099 - val_loss: 1.0528 - val_accuracy: 0.7125\n",
      "Epoch 18/30\n",
      "9/9 [==============================] - 72s 8s/step - loss: 0.3208 - accuracy: 0.8869 - val_loss: 0.9817 - val_accuracy: 0.7125\n",
      "Epoch 19/30\n",
      "9/9 [==============================] - 73s 8s/step - loss: 0.2867 - accuracy: 0.8958 - val_loss: 0.8841 - val_accuracy: 0.7250\n",
      "Epoch 20/30\n",
      "9/9 [==============================] - 75s 8s/step - loss: 0.3138 - accuracy: 0.8958 - val_loss: 0.7364 - val_accuracy: 0.7875\n",
      "Epoch 21/30\n",
      "9/9 [==============================] - 72s 8s/step - loss: 0.2569 - accuracy: 0.8993 - val_loss: 0.9499 - val_accuracy: 0.7250\n",
      "Epoch 22/30\n",
      "9/9 [==============================] - 71s 8s/step - loss: 0.2135 - accuracy: 0.9311 - val_loss: 1.2647 - val_accuracy: 0.6500\n",
      "Epoch 23/30\n",
      "9/9 [==============================] - 70s 8s/step - loss: 0.2604 - accuracy: 0.9134 - val_loss: 1.1557 - val_accuracy: 0.7125\n",
      "Epoch 24/30\n",
      "9/9 [==============================] - 73s 8s/step - loss: 0.2929 - accuracy: 0.8975 - val_loss: 1.5340 - val_accuracy: 0.6375\n",
      "Epoch 25/30\n",
      "9/9 [==============================] - 70s 8s/step - loss: 0.2502 - accuracy: 0.9152 - val_loss: 1.4618 - val_accuracy: 0.6375\n",
      "Epoch 26/30\n",
      "9/9 [==============================] - 70s 8s/step - loss: 0.2388 - accuracy: 0.9152 - val_loss: 1.8335 - val_accuracy: 0.6500\n",
      "Epoch 27/30\n",
      "9/9 [==============================] - 71s 8s/step - loss: 0.1905 - accuracy: 0.9276 - val_loss: 1.8303 - val_accuracy: 0.6000\n",
      "Epoch 28/30\n",
      "9/9 [==============================] - 70s 8s/step - loss: 0.2078 - accuracy: 0.9293 - val_loss: 2.3836 - val_accuracy: 0.6000\n",
      "Epoch 29/30\n",
      "9/9 [==============================] - 70s 8s/step - loss: 0.1553 - accuracy: 0.9452 - val_loss: 2.1099 - val_accuracy: 0.6125\n",
      "Epoch 30/30\n",
      "9/9 [==============================] - 70s 8s/step - loss: 0.2714 - accuracy: 0.9081 - val_loss: 1.8872 - val_accuracy: 0.6750\n"
     ]
    }
   ],
   "source": [
    "history = model_mobilenet.fit(train_generator,\n",
    "                    epochs=30,\n",
    "                    validation_data=validation_generator)"
   ]
  },
  {
   "cell_type": "code",
   "execution_count": 38,
   "id": "063aa1f3",
   "metadata": {},
   "outputs": [
    {
     "name": "stdout",
     "output_type": "stream",
     "text": [
      "2/2 [==============================] - 1s 590ms/step - loss: 4.2382 - accuracy: 0.4865\n"
     ]
    }
   ],
   "source": [
    "results = model_mobilenet.evaluate(testing_generator, batch_size=128)"
   ]
  },
  {
   "cell_type": "code",
   "execution_count": 39,
   "id": "081160df",
   "metadata": {},
   "outputs": [
    {
     "data": {
      "image/png": "[encoded data removed]",
      "text/plain": [
       "<Figure size 432x288 with 1 Axes>"
      ]
     },
     "metadata": {
      "needs_background": "light"
     },
     "output_type": "display_data"
    },
    {
     "data": {
      "text/plain": [
       "<Figure size 432x288 with 0 Axes>"
      ]
     },
     "metadata": {},
     "output_type": "display_data"
    },
    {
     "data": {
      "image/png": "[encoded data removed]",
      "text/plain": [
       "<Figure size 432x288 with 1 Axes>"
      ]
     },
     "metadata": {
      "needs_background": "light"
     },
     "output_type": "display_data"
    },
    {
     "data": {
      "text/plain": [
       "<Figure size 432x288 with 0 Axes>"
      ]
     },
     "metadata": {},
     "output_type": "display_data"
    }
   ],
   "source": [
    "acc = history.history['accuracy']\n",
    "val_acc = history.history['val_accuracy']\n",
    "loss = history.history['loss']\n",
    "val_loss = history.history['val_loss']\n",
    "epochs = range(len(acc))\n",
    "\n",
    "plot_acc_model(acc, val_acc, epochs)\n",
    "plot_loss_model(loss, val_loss, epochs)"
   ]
  },
  {
   "cell_type": "code",
   "execution_count": 40,
   "id": "9cca34ef",
   "metadata": {},
   "outputs": [
    {
     "data": {
      "image/png": "[encoded data removed]",
      "text/plain": [
       "<Figure size 1080x1080 with 2 Axes>"
      ]
     },
     "metadata": {
      "needs_background": "light"
     },
     "output_type": "display_data"
    }
   ],
   "source": [
    "testing_pred_raw = model_mobilenet.predict(testing_generator)\n",
    "testing_pred = np.argmax(testing_pred_raw, axis=1)\n",
    "testing_true = testing_generator.classes\n",
    "testing_class = [\"Acne & Rosacea\", \"Eczema\", \"Herpes HPV\", \"Psoriasis\", \"Seborrheic Keratoses\"]\n",
    "confussion_matrix(testing_true, testing_pred, testing_class)"
   ]
  },
  {
   "cell_type": "code",
   "execution_count": null,
   "id": "92e81cd2",
   "metadata": {},
   "outputs": [],
   "source": [
    "model1_json = model_mobilenet.to_json()\n",
    "with open(\"model1_mobilenet.json\", \"w\") as json_file:\n",
    "    json_file.write(model1_json)\n",
    "# serialize weights to HDF5\n",
    "model_mobilenet.save(\"model1_mobilenet.h5\")\n",
    "print(\"Saved model to disk\")"
   ]
  },
  {
   "cell_type": "code",
   "execution_count": 42,
   "id": "a7721664",
   "metadata": {},
   "outputs": [
    {
     "ename": "NameError",
     "evalue": "name 'files' is not defined",
     "output_type": "error",
     "traceback": [
      "\u001b[1;31m---------------------------------------------------------------------------\u001b[0m",
      "\u001b[1;31mNameError\u001b[0m                                 Traceback (most recent call last)",
      "\u001b[1;32m<ipython-input-42-58cec53804da>\u001b[0m in \u001b[0;36m<module>\u001b[1;34m\u001b[0m\n\u001b[0;32m      1\u001b[0m \u001b[1;32mfrom\u001b[0m \u001b[0mtensorflow\u001b[0m\u001b[1;33m.\u001b[0m\u001b[0mkeras\u001b[0m\u001b[1;33m.\u001b[0m\u001b[0mpreprocessing\u001b[0m \u001b[1;32mimport\u001b[0m \u001b[0mimage\u001b[0m\u001b[1;33m\u001b[0m\u001b[1;33m\u001b[0m\u001b[0m\n\u001b[0;32m      2\u001b[0m \u001b[1;33m\u001b[0m\u001b[0m\n\u001b[1;32m----> 3\u001b[1;33m \u001b[0muploads\u001b[0m \u001b[1;33m=\u001b[0m \u001b[0mfiles\u001b[0m\u001b[1;33m.\u001b[0m\u001b[0mupload\u001b[0m\u001b[1;33m(\u001b[0m\u001b[1;33m)\u001b[0m\u001b[1;33m\u001b[0m\u001b[1;33m\u001b[0m\u001b[0m\n\u001b[0m\u001b[0;32m      4\u001b[0m \u001b[1;33m\u001b[0m\u001b[0m\n\u001b[0;32m      5\u001b[0m \u001b[0mn_files\u001b[0m \u001b[1;33m=\u001b[0m \u001b[0mlen\u001b[0m\u001b[1;33m(\u001b[0m\u001b[0muploads\u001b[0m\u001b[1;33m)\u001b[0m\u001b[1;33m\u001b[0m\u001b[1;33m\u001b[0m\u001b[0m\n",
      "\u001b[1;31mNameError\u001b[0m: name 'files' is not defined"
     ]
    }
   ],
   "source": [
    "from google.colab import files\n",
    "from tensorflow.keras.preprocessing import image\n",
    "\n",
    "uploads = files.upload()\n",
    "\n",
    "n_files = len(uploads)\n",
    "fig = plt.figure(figsize=(2, 2 * n_files))\n",
    "\n",
    "for i, filename in enumerate(uploads):\n",
    "  img = image.load_img(\n",
    "      filename,\n",
    "      target_size=(224, 224)\n",
    "  )\n",
    "  x = image.img_to_array(img)/255\n",
    "  x = np.expand_dims(x, axis=0)\n",
    "\n",
    "  predict = model.predict(x)\n",
    "  class_prediction = np.argmax(predict)\n",
    "  prediction = class_dict[class_prediction]\n",
    "  \n",
    "  \n",
    "  ax = fig.add_subplot(n_files, 1, i+1)\n",
    "  ax.imshow(img)\n",
    "  ax.set_title(prediction)\n",
    "  ax.axis(False)\n",
    "  print('percentage:')\n",
    "  print(predict)"
   ]
  }
 ],
 "metadata": {
  "kernelspec": {
   "display_name": "Python 3",
   "language": "python",
   "name": "python3"
  },
  "language_info": {
   "codemirror_mode": {
    "name": "ipython",
    "version": 3
   },
   "file_extension": ".py",
   "mimetype": "text/x-python",
   "name": "python",
   "nbconvert_exporter": "python",
   "pygments_lexer": "ipython3",
   "version": "3.8.8"
  }
 },
 "nbformat": 4,
 "nbformat_minor": 5
}
